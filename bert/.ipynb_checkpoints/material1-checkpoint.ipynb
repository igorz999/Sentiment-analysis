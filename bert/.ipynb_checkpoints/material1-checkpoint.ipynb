{
 "cells": [
  {
   "cell_type": "code",
   "execution_count": 1,
   "id": "30234233-3a7c-4db9-8f62-179d9bc85e36",
   "metadata": {},
   "outputs": [
    {
     "name": "stderr",
     "output_type": "stream",
     "text": [
      "C:\\Users\\Korisnik\\AppData\\Local\\Programs\\Python\\Python311\\Lib\\site-packages\\tqdm\\auto.py:21: TqdmWarning: IProgress not found. Please update jupyter and ipywidgets. See https://ipywidgets.readthedocs.io/en/stable/user_install.html\n",
      "  from .autonotebook import tqdm as notebook_tqdm\n"
     ]
    }
   ],
   "source": [
    "from transformers import AutoTokenizer, AutoModelForSequenceClassification\n",
    "import torch\n",
    "import requests\n",
    "from bs4 import BeautifulSoup\n",
    "import re"
   ]
  },
  {
   "cell_type": "code",
   "execution_count": 2,
   "id": "688f9811-48eb-4495-95ad-6dc6846fadd9",
   "metadata": {},
   "outputs": [],
   "source": [
    "#Autotokenizer sluzi za konvertovanje stringa u niz brojeva koji se kasnije prosledjuje u nlp model\n",
    "#Automodel... daje arhitekturu da moze da se loaduje nlp model\n",
    "#requests sluzi za vadjenje podataka sa nekog sajta\n",
    "#beautifulsoup sluzi za prolazak kroz DOM podatke sa tog sajta"
   ]
  },
  {
   "cell_type": "code",
   "execution_count": 3,
   "id": "c1f0be26-ebdc-4f89-b955-e44ea52e1788",
   "metadata": {},
   "outputs": [],
   "source": [
    "tokenizer = AutoTokenizer.from_pretrained('nlptown/bert-base-multilingual-uncased-sentiment')\n",
    "model = AutoModelForSequenceClassification.from_pretrained('nlptown/bert-base-multilingual-uncased-sentiment')"
   ]
  },
  {
   "cell_type": "code",
   "execution_count": 4,
   "id": "6a72933c-0020-4601-bb03-4e6877e42070",
   "metadata": {},
   "outputs": [],
   "source": [
    "tokens = tokenizer.encode('I hated this, absolutely the worst', return_tensors='pt') #pt znaci pytorch"
   ]
  },
  {
   "cell_type": "code",
   "execution_count": 5,
   "id": "2c4b1391-c2fd-42e5-b4dc-3d6991898206",
   "metadata": {},
   "outputs": [],
   "source": [
    "another_token = tokenizer.encode('This is crazy good, i think i will love this', return_tensors='pt')"
   ]
  },
  {
   "cell_type": "code",
   "execution_count": 6,
   "id": "b943156f-bf65-4e33-9646-96a05a6f8751",
   "metadata": {},
   "outputs": [
    {
     "data": {
      "text/plain": [
       "'[CLS] i hated this, absolutely the worst [SEP]'"
      ]
     },
     "execution_count": 6,
     "metadata": {},
     "output_type": "execute_result"
    }
   ],
   "source": [
    "tokenizer.decode(tokens[0])"
   ]
  },
  {
   "cell_type": "code",
   "execution_count": 7,
   "id": "6129cc69-2293-4ae3-8c5b-ba459a915492",
   "metadata": {},
   "outputs": [],
   "source": [
    "result = model(tokens)"
   ]
  },
  {
   "cell_type": "code",
   "execution_count": 8,
   "id": "c448e8f6-e9e0-432c-bcd9-3dd188cdf0dd",
   "metadata": {},
   "outputs": [
    {
     "data": {
      "text/plain": [
       "tensor([[ 4.8750,  1.7880, -0.8356, -3.0027, -2.0727]],\n",
       "       grad_fn=<AddmmBackward0>)"
      ]
     },
     "execution_count": 8,
     "metadata": {},
     "output_type": "execute_result"
    }
   ],
   "source": [
    "result.logits"
   ]
  },
  {
   "cell_type": "code",
   "execution_count": 9,
   "id": "a33cb83b-d769-4c4b-bf6a-1b5ebd878074",
   "metadata": {},
   "outputs": [
    {
     "data": {
      "text/plain": [
       "1"
      ]
     },
     "execution_count": 9,
     "metadata": {},
     "output_type": "execute_result"
    }
   ],
   "source": [
    "int(torch.argmax(result.logits))+1 #ovo znaci da je sentiment teksta klasifikovan kao 1(najgora vrsta, jer ide od 1 do 5)"
   ]
  },
  {
   "cell_type": "code",
   "execution_count": 10,
   "id": "489a7ee5-9051-4fce-91b6-ea5a39dd2eb0",
   "metadata": {},
   "outputs": [],
   "source": [
    "another_result = model(another_token)"
   ]
  },
  {
   "cell_type": "code",
   "execution_count": 11,
   "id": "4a27a452-5050-45d7-954d-d638dd742319",
   "metadata": {},
   "outputs": [
    {
     "data": {
      "text/plain": [
       "5"
      ]
     },
     "execution_count": 11,
     "metadata": {},
     "output_type": "execute_result"
    }
   ],
   "source": [
    "int(torch.argmax(another_result.logits))+1"
   ]
  },
  {
   "cell_type": "code",
   "execution_count": 12,
   "id": "c0615a0a-5f3a-44d5-a494-cc9a8ab8a905",
   "metadata": {},
   "outputs": [],
   "source": [
    "#izvlacimo preko regexa sve klase komentara na nekom sajtu(scraping)\n",
    "r = requests.get('https://www.yelp.com/biz/mejico-sydney-2') #dohvatamo sajt, r.text je sve sa tog sajta sta se nalazi\n",
    "soup = BeautifulSoup(r.text, 'html.parser')\n",
    "regex = re.compile('.*comment.*') #trazimo klase \"comment\" jer se tu zapravo nalaze review-ovi\n",
    "results = soup.find_all('p', {'class':regex}) # p znaci paragrafe trazimo, zatim trazimo sve sto je klase comment\n",
    "reviews = [result.text for result in results] #izvlacimo samo text iz html dela"
   ]
  },
  {
   "cell_type": "code",
   "execution_count": 13,
   "id": "f855319b-2896-4a8d-b032-2297731639a6",
   "metadata": {},
   "outputs": [
    {
     "data": {
      "text/plain": [
       "\"Seated without a booking on a super busy Saturday night. Lovely, warm, and Theo right hostess also looked after our table and went out of her way to give detailed ingredients in every dish to avoid allergies for one of us. And the food was great! Guacamole made right at our table, everything prepared with our allergies in mind, and great dish recommendations. We'd been visiting Sydney for about a week from Melbourne, and this was by far our best dining experience. I'd definitely return here in the future.\""
      ]
     },
     "execution_count": 13,
     "metadata": {},
     "output_type": "execute_result"
    }
   ],
   "source": [
    "reviews[0]"
   ]
  },
  {
   "cell_type": "code",
   "execution_count": 14,
   "id": "d14646bc-aa0e-4d49-aa14-468af20ee0c1",
   "metadata": {},
   "outputs": [],
   "source": [
    "#sad cemo ubaciti review-ove u dataframe\n",
    "import pandas as pd\n",
    "import numpy as np\n",
    "\n",
    "df = pd.DataFrame(np.array(reviews), columns=['review'])"
   ]
  },
  {
   "cell_type": "code",
   "execution_count": 15,
   "id": "aefa170d-f8d6-400f-91c6-50382e24545d",
   "metadata": {},
   "outputs": [
    {
     "data": {
      "text/plain": [
       "\"Seated without a booking on a super busy Saturday night. Lovely, warm, and Theo right hostess also looked after our table and went out of her way to give detailed ingredients in every dish to avoid allergies for one of us. And the food was great! Guacamole made right at our table, everything prepared with our allergies in mind, and great dish recommendations. We'd been visiting Sydney for about a week from Melbourne, and this was by far our best dining experience. I'd definitely return here in the future.\""
      ]
     },
     "execution_count": 15,
     "metadata": {},
     "output_type": "execute_result"
    }
   ],
   "source": [
    "df['review'].iloc[0]"
   ]
  },
  {
   "cell_type": "code",
   "execution_count": 16,
   "id": "3d7c1922-f45e-44fe-8302-4aaa567f35b2",
   "metadata": {},
   "outputs": [],
   "source": [
    "def sentiment_score(review):\n",
    "    tokens=tokenizer.encode(review, return_tensors='pt')\n",
    "    result = model(tokens)\n",
    "    return int(torch.argmax(result.logits))+1"
   ]
  },
  {
   "cell_type": "code",
   "execution_count": 17,
   "id": "454c32d7-1dc2-4963-86b4-64d124cb39f0",
   "metadata": {},
   "outputs": [
    {
     "data": {
      "text/plain": [
       "2"
      ]
     },
     "execution_count": 17,
     "metadata": {},
     "output_type": "execute_result"
    }
   ],
   "source": [
    "sentiment_score(df['review'].iloc[2])"
   ]
  },
  {
   "cell_type": "code",
   "execution_count": 18,
   "id": "6efbc317-858d-4124-845d-3e7fb82af184",
   "metadata": {},
   "outputs": [],
   "source": [
    "df['sentiment'] = df['review'].apply(lambda x: sentiment_score(x[:512])) #nlp pipeline je limitirana sa koliko mozes tokena da posaljes(max je 512)"
   ]
  },
  {
   "cell_type": "code",
   "execution_count": 19,
   "id": "ae3111f0-fd4d-4c2d-8bd7-30000ef528de",
   "metadata": {},
   "outputs": [
    {
     "data": {
      "text/html": [
       "<div>\n",
       "<style scoped>\n",
       "    .dataframe tbody tr th:only-of-type {\n",
       "        vertical-align: middle;\n",
       "    }\n",
       "\n",
       "    .dataframe tbody tr th {\n",
       "        vertical-align: top;\n",
       "    }\n",
       "\n",
       "    .dataframe thead th {\n",
       "        text-align: right;\n",
       "    }\n",
       "</style>\n",
       "<table border=\"1\" class=\"dataframe\">\n",
       "  <thead>\n",
       "    <tr style=\"text-align: right;\">\n",
       "      <th></th>\n",
       "      <th>review</th>\n",
       "      <th>sentiment</th>\n",
       "    </tr>\n",
       "  </thead>\n",
       "  <tbody>\n",
       "    <tr>\n",
       "      <th>5</th>\n",
       "      <td>Don't come here expecting legit Mexican food b...</td>\n",
       "      <td>3</td>\n",
       "    </tr>\n",
       "    <tr>\n",
       "      <th>6</th>\n",
       "      <td>Out of all the restaurants that I tried in Syd...</td>\n",
       "      <td>5</td>\n",
       "    </tr>\n",
       "    <tr>\n",
       "      <th>7</th>\n",
       "      <td>Great atmosphere, attentive service, solid mar...</td>\n",
       "      <td>3</td>\n",
       "    </tr>\n",
       "    <tr>\n",
       "      <th>8</th>\n",
       "      <td>We came here on a Thursday night @ 5pm and by ...</td>\n",
       "      <td>4</td>\n",
       "    </tr>\n",
       "    <tr>\n",
       "      <th>9</th>\n",
       "      <td>The food is fresh and tasty.  The scallop cevi...</td>\n",
       "      <td>4</td>\n",
       "    </tr>\n",
       "  </tbody>\n",
       "</table>\n",
       "</div>"
      ],
      "text/plain": [
       "                                              review  sentiment\n",
       "5  Don't come here expecting legit Mexican food b...          3\n",
       "6  Out of all the restaurants that I tried in Syd...          5\n",
       "7  Great atmosphere, attentive service, solid mar...          3\n",
       "8  We came here on a Thursday night @ 5pm and by ...          4\n",
       "9  The food is fresh and tasty.  The scallop cevi...          4"
      ]
     },
     "execution_count": 19,
     "metadata": {},
     "output_type": "execute_result"
    }
   ],
   "source": [
    "df.tail()"
   ]
  },
  {
   "cell_type": "code",
   "execution_count": 27,
   "id": "bd6cc8f3-51e4-4374-b5ab-8433858fb554",
   "metadata": {},
   "outputs": [
    {
     "name": "stdout",
     "output_type": "stream",
     "text": [
      "10\n"
     ]
    },
    {
     "data": {
      "text/html": [
       "<div>\n",
       "<style scoped>\n",
       "    .dataframe tbody tr th:only-of-type {\n",
       "        vertical-align: middle;\n",
       "    }\n",
       "\n",
       "    .dataframe tbody tr th {\n",
       "        vertical-align: top;\n",
       "    }\n",
       "\n",
       "    .dataframe thead th {\n",
       "        text-align: right;\n",
       "    }\n",
       "</style>\n",
       "<table border=\"1\" class=\"dataframe\">\n",
       "  <thead>\n",
       "    <tr style=\"text-align: right;\">\n",
       "      <th></th>\n",
       "      <th>review</th>\n",
       "      <th>sentiment</th>\n",
       "    </tr>\n",
       "  </thead>\n",
       "  <tbody>\n",
       "    <tr>\n",
       "      <th>0</th>\n",
       "      <td>Seated without a booking on a super busy Satur...</td>\n",
       "      <td>5</td>\n",
       "    </tr>\n",
       "    <tr>\n",
       "      <th>1</th>\n",
       "      <td>The food was decent not great..  We had the gu...</td>\n",
       "      <td>2</td>\n",
       "    </tr>\n",
       "    <tr>\n",
       "      <th>2</th>\n",
       "      <td>Food was okay, guacamole was below average. Se...</td>\n",
       "      <td>2</td>\n",
       "    </tr>\n",
       "    <tr>\n",
       "      <th>3</th>\n",
       "      <td>The food and service here was really good.  It...</td>\n",
       "      <td>5</td>\n",
       "    </tr>\n",
       "    <tr>\n",
       "      <th>4</th>\n",
       "      <td>Visiting from Texas and decided to give this r...</td>\n",
       "      <td>5</td>\n",
       "    </tr>\n",
       "    <tr>\n",
       "      <th>5</th>\n",
       "      <td>Don't come here expecting legit Mexican food b...</td>\n",
       "      <td>3</td>\n",
       "    </tr>\n",
       "    <tr>\n",
       "      <th>6</th>\n",
       "      <td>Out of all the restaurants that I tried in Syd...</td>\n",
       "      <td>5</td>\n",
       "    </tr>\n",
       "    <tr>\n",
       "      <th>7</th>\n",
       "      <td>Great atmosphere, attentive service, solid mar...</td>\n",
       "      <td>3</td>\n",
       "    </tr>\n",
       "    <tr>\n",
       "      <th>8</th>\n",
       "      <td>We came here on a Thursday night @ 5pm and by ...</td>\n",
       "      <td>4</td>\n",
       "    </tr>\n",
       "    <tr>\n",
       "      <th>9</th>\n",
       "      <td>The food is fresh and tasty.  The scallop cevi...</td>\n",
       "      <td>4</td>\n",
       "    </tr>\n",
       "  </tbody>\n",
       "</table>\n",
       "</div>"
      ],
      "text/plain": [
       "                                              review  sentiment\n",
       "0  Seated without a booking on a super busy Satur...          5\n",
       "1  The food was decent not great..  We had the gu...          2\n",
       "2  Food was okay, guacamole was below average. Se...          2\n",
       "3  The food and service here was really good.  It...          5\n",
       "4  Visiting from Texas and decided to give this r...          5\n",
       "5  Don't come here expecting legit Mexican food b...          3\n",
       "6  Out of all the restaurants that I tried in Syd...          5\n",
       "7  Great atmosphere, attentive service, solid mar...          3\n",
       "8  We came here on a Thursday night @ 5pm and by ...          4\n",
       "9  The food is fresh and tasty.  The scallop cevi...          4"
      ]
     },
     "execution_count": 27,
     "metadata": {},
     "output_type": "execute_result"
    }
   ],
   "source": [
    "print(len(df))\n",
    "df"
   ]
  },
  {
   "cell_type": "code",
   "execution_count": null,
   "id": "0b02875b-b199-488a-9ee6-d079f458acb5",
   "metadata": {},
   "outputs": [],
   "source": []
  }
 ],
 "metadata": {
  "kernelspec": {
   "display_name": "Python 3 (ipykernel)",
   "language": "python",
   "name": "python3"
  },
  "language_info": {
   "codemirror_mode": {
    "name": "ipython",
    "version": 3
   },
   "file_extension": ".py",
   "mimetype": "text/x-python",
   "name": "python",
   "nbconvert_exporter": "python",
   "pygments_lexer": "ipython3",
   "version": "3.11.8"
  }
 },
 "nbformat": 4,
 "nbformat_minor": 5
}
