{
 "cells": [
  {
   "cell_type": "code",
   "execution_count": 3,
   "id": "c568d9a3",
   "metadata": {},
   "outputs": [
    {
     "name": "stderr",
     "output_type": "stream",
     "text": [
      "C:\\Users\\Korisnik\\AppData\\Local\\Programs\\Python\\Python311\\Lib\\site-packages\\tqdm\\auto.py:21: TqdmWarning: IProgress not found. Please update jupyter and ipywidgets. See https://ipywidgets.readthedocs.io/en/stable/user_install.html\n",
      "  from .autonotebook import tqdm as notebook_tqdm\n"
     ]
    }
   ],
   "source": [
    "from transformers import AutoTokenizer, AutoModelForSequenceClassification, AdamW, BertModel\n",
    "#\n",
    "import torch\n",
    "import torch.nn as nn\n",
    "#\n",
    "import torch\n",
    "import requests\n",
    "from bs4 import BeautifulSoup\n",
    "import pandas as pd\n",
    "import numpy as np\n",
    "import re\n",
    "from sklearn.model_selection import train_test_split\n",
    "from torch.utils.data import DataLoader, TensorDataset #ease batching/shuffleing of data, \n",
    "    # and for TensorDataset easy to use with Dataloader bc of easy pairing of input features with labels\n",
    "from sklearn.metrics import accuracy_score, classification_report"
   ]
  },
  {
   "cell_type": "code",
   "execution_count": 4,
   "id": "0d1d9780",
   "metadata": {},
   "outputs": [],
   "source": [
    "#izvlacimo preko regexa sve komentar klase na nekom sajtu(scraping)\n",
    "reviews = []\n",
    "\n",
    "#ovo vadi samo sa glavne strane reviewove zato ih umesto po 88 da ima npr na sajtu kafica ima u vrh glave 10ak\n",
    "urls = [\n",
    "    'https://www.yelp.com/biz/pronto-pizza-san-francisco?hrid=MqOAQdGM98FDpHqArFRZFg',\n",
    "    'https://www.yelp.com/biz/mejico-sydney-2',\n",
    "    'https://www.yelp.com/biz/vans-daly-city',\n",
    "    'https://www.yelp.com/biz/dhoom-indian-fashion-clothing-and-bridal-fremont-3',\n",
    "    'https://www.yelp.com/biz/san-francisco-centre-san-francisco?osq=Shopping',\n",
    "    'https://www.yelp.com/biz/sanraku-san-francisco-2'\n",
    "]\n",
    "\n",
    "#implement error handling!\n",
    "def fetch_reviews(urls):\n",
    "    for url in urls:\n",
    "        r = requests.get(url) #dohvatamo sve sa tog sajta, r.text je citav tekst\n",
    "        soup = BeautifulSoup(r.text, 'html.parser')\n",
    "        regex = re.compile('.*comment.*') #trazimo klase \"comment\" jer se tu zapravo nalaze review-ovi\n",
    "        results = soup.find_all('p', {'class':regex}) # p znaci paragrafe trazimo, zatim trazimo sve sto je klase comment\n",
    "        reviews.extend([result.text for result in results]) #izvlacimo samo text iz html dela\n",
    "    return reviews"
   ]
  },
  {
   "cell_type": "code",
   "execution_count": 5,
   "id": "29e930ee",
   "metadata": {},
   "outputs": [],
   "source": [
    "reviews = pd.read_csv('data/imdb.csv')\n",
    "#reviews = fetch_reviews(urls)"
   ]
  },
  {
   "cell_type": "code",
   "execution_count": 6,
   "id": "5a407603",
   "metadata": {},
   "outputs": [
    {
     "data": {
      "text/plain": [
       "50000"
      ]
     },
     "execution_count": 6,
     "metadata": {},
     "output_type": "execute_result"
    }
   ],
   "source": [
    "len(reviews) \n",
    "#mali je broj instanci ako samo scraping radis za kvalitetan model? (za sad 71)"
   ]
  },
  {
   "cell_type": "code",
   "execution_count": 7,
   "id": "df729def",
   "metadata": {},
   "outputs": [
    {
     "data": {
      "text/html": [
       "<div>\n",
       "<style scoped>\n",
       "    .dataframe tbody tr th:only-of-type {\n",
       "        vertical-align: middle;\n",
       "    }\n",
       "\n",
       "    .dataframe tbody tr th {\n",
       "        vertical-align: top;\n",
       "    }\n",
       "\n",
       "    .dataframe thead th {\n",
       "        text-align: right;\n",
       "    }\n",
       "</style>\n",
       "<table border=\"1\" class=\"dataframe\">\n",
       "  <thead>\n",
       "    <tr style=\"text-align: right;\">\n",
       "      <th></th>\n",
       "      <th>review</th>\n",
       "      <th>sentiment</th>\n",
       "    </tr>\n",
       "  </thead>\n",
       "  <tbody>\n",
       "    <tr>\n",
       "      <th>0</th>\n",
       "      <td>One of the other reviewers has mentioned that ...</td>\n",
       "      <td>positive</td>\n",
       "    </tr>\n",
       "    <tr>\n",
       "      <th>1</th>\n",
       "      <td>A wonderful little production. &lt;br /&gt;&lt;br /&gt;The...</td>\n",
       "      <td>positive</td>\n",
       "    </tr>\n",
       "    <tr>\n",
       "      <th>2</th>\n",
       "      <td>I thought this was a wonderful way to spend ti...</td>\n",
       "      <td>positive</td>\n",
       "    </tr>\n",
       "    <tr>\n",
       "      <th>3</th>\n",
       "      <td>Basically there's a family where a little boy ...</td>\n",
       "      <td>negative</td>\n",
       "    </tr>\n",
       "    <tr>\n",
       "      <th>4</th>\n",
       "      <td>Petter Mattei's \"Love in the Time of Money\" is...</td>\n",
       "      <td>positive</td>\n",
       "    </tr>\n",
       "    <tr>\n",
       "      <th>...</th>\n",
       "      <td>...</td>\n",
       "      <td>...</td>\n",
       "    </tr>\n",
       "    <tr>\n",
       "      <th>49995</th>\n",
       "      <td>I thought this movie did a down right good job...</td>\n",
       "      <td>positive</td>\n",
       "    </tr>\n",
       "    <tr>\n",
       "      <th>49996</th>\n",
       "      <td>Bad plot, bad dialogue, bad acting, idiotic di...</td>\n",
       "      <td>negative</td>\n",
       "    </tr>\n",
       "    <tr>\n",
       "      <th>49997</th>\n",
       "      <td>I am a Catholic taught in parochial elementary...</td>\n",
       "      <td>negative</td>\n",
       "    </tr>\n",
       "    <tr>\n",
       "      <th>49998</th>\n",
       "      <td>I'm going to have to disagree with the previou...</td>\n",
       "      <td>negative</td>\n",
       "    </tr>\n",
       "    <tr>\n",
       "      <th>49999</th>\n",
       "      <td>No one expects the Star Trek movies to be high...</td>\n",
       "      <td>negative</td>\n",
       "    </tr>\n",
       "  </tbody>\n",
       "</table>\n",
       "<p>50000 rows × 2 columns</p>\n",
       "</div>"
      ],
      "text/plain": [
       "                                                  review sentiment\n",
       "0      One of the other reviewers has mentioned that ...  positive\n",
       "1      A wonderful little production. <br /><br />The...  positive\n",
       "2      I thought this was a wonderful way to spend ti...  positive\n",
       "3      Basically there's a family where a little boy ...  negative\n",
       "4      Petter Mattei's \"Love in the Time of Money\" is...  positive\n",
       "...                                                  ...       ...\n",
       "49995  I thought this movie did a down right good job...  positive\n",
       "49996  Bad plot, bad dialogue, bad acting, idiotic di...  negative\n",
       "49997  I am a Catholic taught in parochial elementary...  negative\n",
       "49998  I'm going to have to disagree with the previou...  negative\n",
       "49999  No one expects the Star Trek movies to be high...  negative\n",
       "\n",
       "[50000 rows x 2 columns]"
      ]
     },
     "execution_count": 7,
     "metadata": {},
     "output_type": "execute_result"
    }
   ],
   "source": [
    "reviews"
   ]
  },
  {
   "cell_type": "code",
   "execution_count": 8,
   "id": "1e9fa962",
   "metadata": {},
   "outputs": [],
   "source": [
    "# Load BERT model and tokenizer\n",
    "\n",
    "#tokenization is essentially turning the sentences/words into tokens, \n",
    "#tokens are used by the machine to understand the context and process the input better\n",
    "\n",
    "#tokenizer = AutoTokenizer.from_pretrained('bert-base-uncased')\n",
    "#model = AutoModelForSequenceClassification.from_pretrained('bert-base-uncased')"
   ]
  },
  {
   "cell_type": "code",
   "execution_count": 9,
   "id": "007dfde6",
   "metadata": {},
   "outputs": [],
   "source": [
    "reviews['sentiment'] = reviews['sentiment'].apply(lambda x: 1 if x == 'positive' else 0)"
   ]
  },
  {
   "cell_type": "code",
   "execution_count": 10,
   "id": "3d501269",
   "metadata": {},
   "outputs": [
    {
     "data": {
      "text/html": [
       "<div>\n",
       "<style scoped>\n",
       "    .dataframe tbody tr th:only-of-type {\n",
       "        vertical-align: middle;\n",
       "    }\n",
       "\n",
       "    .dataframe tbody tr th {\n",
       "        vertical-align: top;\n",
       "    }\n",
       "\n",
       "    .dataframe thead th {\n",
       "        text-align: right;\n",
       "    }\n",
       "</style>\n",
       "<table border=\"1\" class=\"dataframe\">\n",
       "  <thead>\n",
       "    <tr style=\"text-align: right;\">\n",
       "      <th></th>\n",
       "      <th>review</th>\n",
       "      <th>sentiment</th>\n",
       "    </tr>\n",
       "  </thead>\n",
       "  <tbody>\n",
       "    <tr>\n",
       "      <th>0</th>\n",
       "      <td>One of the other reviewers has mentioned that ...</td>\n",
       "      <td>1</td>\n",
       "    </tr>\n",
       "    <tr>\n",
       "      <th>1</th>\n",
       "      <td>A wonderful little production. &lt;br /&gt;&lt;br /&gt;The...</td>\n",
       "      <td>1</td>\n",
       "    </tr>\n",
       "    <tr>\n",
       "      <th>2</th>\n",
       "      <td>I thought this was a wonderful way to spend ti...</td>\n",
       "      <td>1</td>\n",
       "    </tr>\n",
       "    <tr>\n",
       "      <th>3</th>\n",
       "      <td>Basically there's a family where a little boy ...</td>\n",
       "      <td>0</td>\n",
       "    </tr>\n",
       "    <tr>\n",
       "      <th>4</th>\n",
       "      <td>Petter Mattei's \"Love in the Time of Money\" is...</td>\n",
       "      <td>1</td>\n",
       "    </tr>\n",
       "  </tbody>\n",
       "</table>\n",
       "</div>"
      ],
      "text/plain": [
       "                                              review  sentiment\n",
       "0  One of the other reviewers has mentioned that ...          1\n",
       "1  A wonderful little production. <br /><br />The...          1\n",
       "2  I thought this was a wonderful way to spend ti...          1\n",
       "3  Basically there's a family where a little boy ...          0\n",
       "4  Petter Mattei's \"Love in the Time of Money\" is...          1"
      ]
     },
     "execution_count": 10,
     "metadata": {},
     "output_type": "execute_result"
    }
   ],
   "source": [
    "reviews.head()"
   ]
  },
  {
   "cell_type": "code",
   "execution_count": 11,
   "id": "b95c3972-9ac6-4557-a1f7-1bc09d76b1ff",
   "metadata": {},
   "outputs": [],
   "source": [
    "class Tokenize_dataset:\n",
    "  def __init__(self, text, targets, tokenizer, max_len):\n",
    "    self.text = text.reset_index(drop=True)  # Ensure continuous integer index\n",
    "    self.tokenizer = tokenizer\n",
    "    self.max_len = max_len\n",
    "    self.targets = targets.reset_index(drop=True)  # Ensure continuous integer index\n",
    "\n",
    "  def __len__(self):\n",
    "    return len(self.targets)\n",
    "\n",
    "  def __getitem__(self, item):\n",
    "    text = str(self.text[item])\n",
    "    targets = self.targets[item]\n",
    "    inputs = self.tokenizer.encode_plus(\n",
    "        str(text),\n",
    "        add_special_tokens = True,\n",
    "        max_length = self.max_len,\n",
    "        padding='max_length',  # Replace deprecated parameter pad_to_max_length\n",
    "        truncation=True  # Handle text longer than max_length\n",
    "    )\n",
    "\n",
    "    ids = inputs[\"input_ids\"]\n",
    "    mask = inputs[\"attention_mask\"]\n",
    "    token_type_ids = inputs.get(\"token_type_ids\", [0] * len(ids))  # Use default if not present\n",
    "\n",
    "    return {\n",
    "        \"ids\": torch.tensor(ids, dtype=torch.long),\n",
    "        \"mask\": torch.tensor(mask, dtype=torch.long),\n",
    "        \"token_type_ids\": torch.tensor(token_type_ids, dtype=torch.long),\n",
    "        \"targets\": torch.tensor(targets, dtype=torch.long)\n",
    "    }"
   ]
  },
  {
   "cell_type": "code",
   "execution_count": 12,
   "id": "4b6efc1d",
   "metadata": {},
   "outputs": [],
   "source": [
    "train_maxlen = 140\n",
    "batch_size = 32\n",
    "epochs = 10\n",
    "bert_model = 'bert-base-uncased'\n",
    "learning_rate = 3e-5"
   ]
  },
  {
   "cell_type": "code",
   "execution_count": 13,
   "id": "882dc231",
   "metadata": {},
   "outputs": [],
   "source": [
    "class CompleteModel(nn.Module):\n",
    "  def __init__(self, bert):\n",
    "    super(CompleteModel, self).__init__()\n",
    "    self.bert = BertModel.from_pretrained(bert)\n",
    "    self.drop = nn.Dropout(p=0.25)\n",
    "    self.out = nn.Linear(self.bert.config.hidden_size, 2) # Number of output classes = 3, positive, negative and N(none)\n",
    "\n",
    "  def forward(self, ids, mask, token_type_ids):\n",
    "    _, pooled_output = self.bert(ids, attention_mask=mask, token_type_ids=token_type_ids, return_dict=False)\n",
    "    output = self.drop(pooled_output)\n",
    "    return self.out(output)"
   ]
  },
  {
   "cell_type": "code",
   "execution_count": 14,
   "id": "ed713c1a-c6ab-4f43-8655-b786809c2e33",
   "metadata": {},
   "outputs": [],
   "source": [
    "X = reviews['review']\n",
    "y = reviews['sentiment']"
   ]
  },
  {
   "cell_type": "code",
   "execution_count": 15,
   "id": "7d728ef1-6a30-4de6-b9f8-0aec81fca301",
   "metadata": {},
   "outputs": [],
   "source": [
    "X_train, X_test, y_train, y_test = train_test_split(X, y, test_size=0.2, random_state=42)"
   ]
  },
  {
   "cell_type": "code",
   "execution_count": 16,
   "id": "7bc21530-3ea2-4048-80ea-e9cd72be6d48",
   "metadata": {},
   "outputs": [],
   "source": [
    "X_train, X_val, y_train, y_val = train_test_split(X_train, y_train, test_size=0.1, random_state=42)"
   ]
  },
  {
   "cell_type": "code",
   "execution_count": 17,
   "id": "3ab3995a-3c1d-4b40-9da8-5b13bb2814b0",
   "metadata": {},
   "outputs": [],
   "source": [
    "tokenizer = AutoTokenizer.from_pretrained('bert-base-uncased') # dal treba BertTokenizer?"
   ]
  },
  {
   "cell_type": "code",
   "execution_count": 18,
   "id": "bf5516a4-a493-42c5-9008-5f9f4f9a29a1",
   "metadata": {},
   "outputs": [],
   "source": [
    "train_dataset = Tokenize_dataset(X_train, y_train, tokenizer, max_len=140)\n",
    "val_dataset = Tokenize_dataset(X_val, y_val, tokenizer, max_len=140)\n",
    "test_dataset = Tokenize_dataset(X_test, y_test, tokenizer, max_len=140)"
   ]
  },
  {
   "cell_type": "code",
   "execution_count": 19,
   "id": "39304e8f-0177-4f71-8e0a-35124e7384d8",
   "metadata": {},
   "outputs": [],
   "source": [
    "train_loader = DataLoader(train_dataset, batch_size=batch_size, shuffle=True, num_workers=4, pin_memory=True)\n",
    "val_loader = DataLoader(val_dataset, batch_size=batch_size, shuffle=False)\n",
    "test_loader = DataLoader(test_dataset, batch_size=batch_size, shuffle=False)"
   ]
  },
  {
   "cell_type": "code",
   "execution_count": 20,
   "id": "73033505-6ca1-4f9f-9c47-8179a18785d0",
   "metadata": {},
   "outputs": [],
   "source": [
    "model = CompleteModel(bert_model)"
   ]
  },
  {
   "cell_type": "code",
   "execution_count": 21,
   "id": "b16707b4-c3e8-41d3-832d-327199163f74",
   "metadata": {},
   "outputs": [
    {
     "name": "stderr",
     "output_type": "stream",
     "text": [
      "C:\\Users\\Korisnik\\AppData\\Local\\Programs\\Python\\Python311\\Lib\\site-packages\\transformers\\optimization.py:591: FutureWarning: This implementation of AdamW is deprecated and will be removed in a future version. Use the PyTorch implementation torch.optim.AdamW instead, or set `no_deprecation_warning=True` to disable this warning\n",
      "  warnings.warn(\n"
     ]
    }
   ],
   "source": [
    "# Set up training components\n",
    "optimizer = AdamW(model.parameters(), lr=learning_rate)\n",
    "loss_fn = nn.CrossEntropyLoss()"
   ]
  },
  {
   "cell_type": "code",
   "execution_count": null,
   "id": "dc280823-62a1-4669-9488-a3391145abed",
   "metadata": {},
   "outputs": [],
   "source": [
    "for epoch in range(3):\n",
    "    model.train()\n",
    "    i=0\n",
    "    for batch in train_loader:\n",
    "        ids = batch['ids']\n",
    "        mask = batch['mask']\n",
    "        token_type_ids = batch['token_type_ids']\n",
    "        targets = batch['targets']\n",
    "\n",
    "        optimizer.zero_grad()\n",
    "        outputs = model(ids, mask, token_type_ids)  # Expecting only one value returned\n",
    "        loss = loss_fn(outputs, targets)\n",
    "        loss.backward()\n",
    "        optimizer.step()\n",
    "        print(f\"izvrsen {i}. batch\")\n",
    "        i+=1\n",
    "\n",
    "    model.eval()\n",
    "    print(\"usao u evaluaciju!\")\n",
    "    val_loss = 0\n",
    "    correct_preds = 0\n",
    "    with torch.no_grad():\n",
    "        for batch in val_loader:\n",
    "            ids = batch['ids']\n",
    "            mask = batch['mask']\n",
    "            token_type_ids = batch['token_type_ids']\n",
    "            targets = batch['targets']\n",
    "\n",
    "            outputs = model(ids, mask, token_type_ids)\n",
    "            loss = loss_fn(outputs, targets)\n",
    "            val_loss += loss.item()\n",
    "            preds = torch.argmax(outputs, dim=1)\n",
    "            correct_preds += (preds == targets).sum().item()\n",
    "\n",
    "    print(f'Epoch {epoch+1}/{epochs}, Validation Loss: {val_loss/len(val_loader)}, Accuracy: {correct_preds/len(val_dataset)}')\n"
   ]
  },
  {
   "cell_type": "code",
   "execution_count": null,
   "id": "c452bc60-c178-4ed6-97f4-083d1a6999cd",
   "metadata": {},
   "outputs": [],
   "source": []
  },
  {
   "cell_type": "code",
   "execution_count": null,
   "id": "857adb46",
   "metadata": {},
   "outputs": [],
   "source": []
  },
  {
   "cell_type": "code",
   "execution_count": null,
   "id": "a00cc807",
   "metadata": {},
   "outputs": [],
   "source": []
  },
  {
   "cell_type": "code",
   "execution_count": null,
   "id": "6ec38659",
   "metadata": {},
   "outputs": [],
   "source": []
  },
  {
   "cell_type": "code",
   "execution_count": null,
   "id": "ad3739c2",
   "metadata": {},
   "outputs": [],
   "source": []
  }
 ],
 "metadata": {
  "kernelspec": {
   "display_name": "Python 3 (ipykernel)",
   "language": "python",
   "name": "python3"
  },
  "language_info": {
   "codemirror_mode": {
    "name": "ipython",
    "version": 3
   },
   "file_extension": ".py",
   "mimetype": "text/x-python",
   "name": "python",
   "nbconvert_exporter": "python",
   "pygments_lexer": "ipython3",
   "version": "3.11.8"
  }
 },
 "nbformat": 4,
 "nbformat_minor": 5
}
